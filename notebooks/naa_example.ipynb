{
 "cells": [
  {
   "cell_type": "code",
   "execution_count": 1,
   "metadata": {},
   "outputs": [],
   "source": [
    "import numpy as np\n",
    "import curie as cu\n",
    "from matplotlib import pyplot as plt\n",
    "from scipy.signal import find_peaks\n",
    "import csv"
   ]
  },
  {
   "cell_type": "code",
   "execution_count": 13,
   "metadata": {},
   "outputs": [
    {
     "name": "stdout",
     "output_type": "stream",
     "text": [
      "Reading Spectrum ../examples/NaCl_2022_1.Spe\n"
     ]
    },
    {
     "ename": "UnboundLocalError",
     "evalue": "local variable 'section' referenced before assignment",
     "output_type": "error",
     "traceback": [
      "\u001b[0;31m---------------------------------------------------------------------------\u001b[0m",
      "\u001b[0;31mUnboundLocalError\u001b[0m                         Traceback (most recent call last)",
      "\u001b[1;32m/home/ncarrara/physics/NAT/NAA/notebooks/naa_example.ipynb Cell 2\u001b[0m in \u001b[0;36m<cell line: 1>\u001b[0;34m()\u001b[0m\n\u001b[0;32m----> <a href='vscode-notebook-cell:/home/ncarrara/physics/NAT/NAA/notebooks/naa_example.ipynb#W6sZmlsZQ%3D%3D?line=0'>1</a>\u001b[0m sp \u001b[39m=\u001b[39m cu\u001b[39m.\u001b[39;49mSpectrum(\u001b[39m\"\u001b[39;49m\u001b[39m../examples/NaCl_2022_1.Spe\u001b[39;49m\u001b[39m\"\u001b[39;49m)\n\u001b[1;32m      <a href='vscode-notebook-cell:/home/ncarrara/physics/NAT/NAA/notebooks/naa_example.ipynb#W6sZmlsZQ%3D%3D?line=2'>3</a>\u001b[0m \u001b[39mtry\u001b[39;00m:\n\u001b[1;32m      <a href='vscode-notebook-cell:/home/ncarrara/physics/NAT/NAA/notebooks/naa_example.ipynb#W6sZmlsZQ%3D%3D?line=3'>4</a>\u001b[0m     mo \u001b[39m=\u001b[39m cu\u001b[39m.\u001b[39mIsotope(\u001b[39m\"\u001b[39m\u001b[39mMo-199\u001b[39m\u001b[39m\"\u001b[39m)\n",
      "File \u001b[0;32m~/anaconda3/envs/py38/lib/python3.8/site-packages/curie/spectrum.py:116\u001b[0m, in \u001b[0;36mSpectrum.__init__\u001b[0;34m(self, filename, **kwargs)\u001b[0m\n\u001b[1;32m    114\u001b[0m \u001b[39mprint\u001b[39m(\u001b[39m'\u001b[39m\u001b[39mReading Spectrum \u001b[39m\u001b[39m{}\u001b[39;00m\u001b[39m'\u001b[39m\u001b[39m.\u001b[39mformat(filename))\n\u001b[1;32m    115\u001b[0m \u001b[39mif\u001b[39;00m filename\u001b[39m.\u001b[39mendswith(\u001b[39m'\u001b[39m\u001b[39m.Spe\u001b[39m\u001b[39m'\u001b[39m):\n\u001b[0;32m--> 116\u001b[0m \t\u001b[39mself\u001b[39;49m\u001b[39m.\u001b[39;49m_read_Spe(filename)\n\u001b[1;32m    117\u001b[0m \u001b[39melif\u001b[39;00m filename\u001b[39m.\u001b[39mendswith(\u001b[39m'\u001b[39m\u001b[39m.Chn\u001b[39m\u001b[39m'\u001b[39m):\n\u001b[1;32m    118\u001b[0m \t\u001b[39mself\u001b[39m\u001b[39m.\u001b[39m_read_Chn(filename)\n",
      "File \u001b[0;32m~/anaconda3/envs/py38/lib/python3.8/site-packages/curie/spectrum.py:152\u001b[0m, in \u001b[0;36mSpectrum._read_Spe\u001b[0;34m(self, filename)\u001b[0m\n\u001b[1;32m    150\u001b[0m \t\t\t\t\u001b[39mself\u001b[39m\u001b[39m.\u001b[39m_ortec_metadata[section] \u001b[39m=\u001b[39m []\n\u001b[1;32m    151\u001b[0m \t\t\u001b[39melse\u001b[39;00m:\n\u001b[0;32m--> 152\u001b[0m \t\t\t\u001b[39mself\u001b[39m\u001b[39m.\u001b[39m_ortec_metadata[section]\u001b[39m.\u001b[39mappend(ln\u001b[39m.\u001b[39mstrip())\n\u001b[1;32m    153\u001b[0m \t\tln \u001b[39m=\u001b[39m f\u001b[39m.\u001b[39mreadline()\n\u001b[1;32m    155\u001b[0m \u001b[39mself\u001b[39m\u001b[39m.\u001b[39mstart_time \u001b[39m=\u001b[39m dtm\u001b[39m.\u001b[39mdatetime\u001b[39m.\u001b[39mstrptime(\u001b[39mself\u001b[39m\u001b[39m.\u001b[39m_ortec_metadata[\u001b[39m'\u001b[39m\u001b[39mDATE_MEA\u001b[39m\u001b[39m'\u001b[39m][\u001b[39m0\u001b[39m], \u001b[39m'\u001b[39m\u001b[39m%\u001b[39m\u001b[39mm/\u001b[39m\u001b[39m%d\u001b[39;00m\u001b[39m/\u001b[39m\u001b[39m%\u001b[39m\u001b[39mY \u001b[39m\u001b[39m%\u001b[39m\u001b[39mH:\u001b[39m\u001b[39m%\u001b[39m\u001b[39mM:\u001b[39m\u001b[39m%\u001b[39m\u001b[39mS\u001b[39m\u001b[39m'\u001b[39m)\n",
      "\u001b[0;31mUnboundLocalError\u001b[0m: local variable 'section' referenced before assignment"
     ]
    }
   ],
   "source": [
    "sp = cu.Spectrum(\"../examples/NaCl_2022_1.TKA\")\n",
    "\n",
    "try:\n",
    "    mo = cu.Isotope(\"Mo-199\")\n",
    "except:\n",
    "    pass\n"
   ]
  },
  {
   "cell_type": "code",
   "execution_count": 2,
   "metadata": {},
   "outputs": [
    {
     "ename": "ImportError",
     "evalue": "cannot import name 'data' from 'pyne' (/home/ncarrara/anaconda3/envs/py38/lib/python3.8/site-packages/pyne.py)",
     "output_type": "error",
     "traceback": [
      "\u001b[0;31m---------------------------------------------------------------------------\u001b[0m",
      "\u001b[0;31mImportError\u001b[0m                               Traceback (most recent call last)",
      "\u001b[1;32m/home/ncarrara/physics/NAT/NAA/notebooks/naa_example.ipynb Cell 2\u001b[0m in \u001b[0;36m<cell line: 1>\u001b[0;34m()\u001b[0m\n\u001b[0;32m----> <a href='vscode-notebook-cell:/home/ncarrara/physics/NAT/NAA/notebooks/naa_example.ipynb#W5sZmlsZQ%3D%3D?line=0'>1</a>\u001b[0m \u001b[39mfrom\u001b[39;00m \u001b[39mpyne\u001b[39;00m \u001b[39mimport\u001b[39;00m data\n\u001b[1;32m      <a href='vscode-notebook-cell:/home/ncarrara/physics/NAT/NAA/notebooks/naa_example.ipynb#W5sZmlsZQ%3D%3D?line=1'>2</a>\u001b[0m \u001b[39mimport\u001b[39;00m \u001b[39mmath\u001b[39;00m\n\u001b[1;32m      <a href='vscode-notebook-cell:/home/ncarrara/physics/NAT/NAA/notebooks/naa_example.ipynb#W5sZmlsZQ%3D%3D?line=2'>3</a>\u001b[0m \u001b[39mimport\u001b[39;00m \u001b[39mnumpy\u001b[39;00m \u001b[39mas\u001b[39;00m \u001b[39mnp\u001b[39;00m\n",
      "\u001b[0;31mImportError\u001b[0m: cannot import name 'data' from 'pyne' (/home/ncarrara/anaconda3/envs/py38/lib/python3.8/site-packages/pyne.py)"
     ]
    }
   ],
   "source": [
    "from pyne import data\n",
    "import math\n",
    "import numpy as np\n",
    "from matplotlib import pyplot as plt\n",
    "\n",
    "\n",
    "def get_gammas(Z, A):\n",
    "    child_string = str(Z + 1)\n",
    "    isotope_string = str(Z)\n",
    "    if A < 100:\n",
    "        isotope_string += '0'\n",
    "        child_string += '0'\n",
    "    isotope_string += str(A)\n",
    "    child_string += str(A)\n",
    "    isotope_string += '0'\n",
    "    isotope_string += '0'\n",
    "    isotope_string += '0'\n",
    "    isotope_string += '0'\n",
    "    child_string += '0'\n",
    "    child_string += '0'\n",
    "    child_string += '0'\n",
    "    child_string += '0'\n",
    "\n",
    "    intensities = data.gamma_photon_intensity(int(isotope_string))\n",
    "    decay_pairs = data.gamma_from_to_byparent(int(isotope_string))\n",
    "    energies = data.gamma_energy(int(isotope_string))\n",
    "\n",
    "    photonbr, photonbr_error = data.decay_photon_branch_ratio(int(isotope_string), int(child_string))\n",
    "    final_energies = []\n",
    "    final_intensities = []\n",
    "    #print \n",
    "    for ii, item in enumerate(intensities):\n",
    "        if math.isnan(item[0]):\n",
    "            continue\n",
    "        # compute the intensities by multiplying the branch ratio and the relative intensity; ignore the errors \n",
    "        final_energies.append(energies[ii][0])\n",
    "        final_intensities.append(photonbr*item[0])\n",
    "    final_energies = np.array(final_energies)\n",
    "    final_intensities = np.array(final_intensities)\n",
    "    final_intensities /= sum(final_intensities)\n",
    "    return final_energies, final_intensities\n",
    "\n",
    "final_energies, final_intensities = get_gammas(57, 140)\n",
    "\n",
    "fig, axs = plt.subplots()\n",
    "axs.scatter(final_energies, final_intensities)\n",
    "axs.set_xlabel(\"Gamma energy [keV]\")\n",
    "axs.set_ylabel(\"Relative intensity\")\n",
    "plt.show()"
   ]
  },
  {
   "cell_type": "code",
   "execution_count": 17,
   "metadata": {},
   "outputs": [],
   "source": [
    "def calibration(channel):\n",
    "    return -0.267 +0.500*channel + -3.36E-08*pow(channel, 2) + 0.00E+00*pow(channel, 3)"
   ]
  },
  {
   "cell_type": "code",
   "execution_count": 34,
   "metadata": {},
   "outputs": [
    {
     "name": "stdout",
     "output_type": "stream",
     "text": [
      "[2.32999966e-01 1.27329773e+01 1.72329588e+01 2.12329379e+01\n",
      " 2.27329289e+01 2.37329226e+01 2.67329020e+01 2.82328908e+01\n",
      " 3.02328750e+01 3.17328624e+01 3.47328354e+01 3.92327903e+01\n",
      " 4.22327572e+01 4.32327457e+01 4.72326968e+01 4.82326839e+01\n",
      " 5.22326296e+01 5.32326153e+01 5.52325860e+01 5.62325710e+01\n",
      " 5.87325322e+01 6.07324999e+01 6.27324666e+01 6.62324056e+01\n",
      " 6.72323876e+01 7.12323129e+01 7.22322936e+01 7.42322540e+01\n",
      " 7.62322135e+01 7.72321928e+01 8.02321291e+01 8.47320290e+01\n",
      " 8.62319944e+01 8.72319710e+01 8.82319473e+01 9.32318250e+01\n",
      " 9.57317614e+01 9.67317354e+01 9.77317092e+01 9.97316560e+01\n",
      " 1.04231532e+02 1.05231504e+02 1.07731432e+02 1.09731374e+02\n",
      " 1.11731314e+02 1.13231269e+02 1.16231176e+02 1.19231081e+02\n",
      " 1.21731000e+02 1.23230950e+02 1.24230917e+02 1.26730832e+02\n",
      " 1.29230746e+02 1.30230711e+02 1.32230640e+02 1.40230347e+02\n",
      " 1.41730290e+02 1.42730252e+02 1.43730213e+02 1.45230155e+02\n",
      " 1.48230036e+02 1.49229996e+02 1.50229956e+02 1.51229915e+02\n",
      " 1.52729854e+02 1.54229792e+02 1.56229708e+02 1.57229666e+02\n",
      " 1.58729602e+02 1.59729559e+02 1.61729473e+02 1.63229407e+02\n",
      " 1.65229319e+02 1.66729252e+02 1.70229093e+02 1.71729024e+02\n",
      " 1.74228907e+02 1.77228766e+02 1.79228670e+02 1.83728450e+02\n",
      " 1.91228071e+02 1.95227863e+02 1.99727624e+02 2.01227543e+02\n",
      " 2.05227324e+02 2.06727241e+02 2.07727185e+02 2.08727129e+02\n",
      " 2.11226988e+02 2.14226816e+02 2.17726613e+02 2.18726554e+02\n",
      " 2.21726376e+02 2.29725890e+02 2.31225797e+02 2.33225672e+02\n",
      " 2.35225546e+02 2.37725387e+02 2.46724800e+02 2.49724600e+02\n",
      " 2.51724465e+02 2.53224363e+02 2.54224295e+02 2.56224158e+02\n",
      " 2.58723984e+02 2.62223739e+02 2.63723633e+02 2.64723562e+02\n",
      " 2.68223311e+02 2.69723202e+02 2.70723130e+02 2.73722910e+02\n",
      " 2.74722836e+02 2.78222576e+02 2.79222501e+02 2.80222425e+02\n",
      " 2.88721775e+02 2.90221658e+02 2.93221422e+02 2.94221343e+02\n",
      " 2.98720985e+02 3.06220374e+02 3.10720001e+02 3.12719833e+02\n",
      " 3.15219622e+02 3.17719409e+02 3.29718364e+02 3.33218052e+02\n",
      " 3.37717646e+02 3.43217142e+02 3.46716817e+02 3.47716724e+02\n",
      " 3.51716347e+02 3.52716253e+02 3.54716062e+02 3.62215339e+02\n",
      " 3.65215045e+02 3.66214947e+02 3.68714700e+02 3.74714100e+02\n",
      " 3.75713999e+02 3.80213542e+02 3.92712242e+02 4.00711388e+02\n",
      " 4.01711280e+02 4.06210791e+02 4.08210572e+02 4.14709853e+02\n",
      " 4.18209461e+02 4.21209122e+02 4.26708495e+02 4.31707918e+02\n",
      " 4.35707451e+02 4.37207275e+02 4.48205965e+02 4.57204869e+02\n",
      " 4.59704561e+02 4.60704437e+02 4.64703939e+02 4.75202612e+02\n",
      " 4.76202484e+02 4.77702292e+02 4.78702163e+02 4.79702034e+02\n",
      " 4.82201711e+02 4.84201451e+02 4.85201321e+02 4.99199467e+02\n",
      " 5.02199063e+02 5.05198657e+02 5.12197699e+02 5.14697354e+02\n",
      " 5.20196588e+02 5.27695531e+02 5.30695104e+02 5.33194747e+02\n",
      " 5.39693809e+02 5.41193591e+02 5.44693080e+02 5.52191974e+02\n",
      " 5.55191527e+02 5.56191377e+02 5.66189868e+02 5.71689026e+02\n",
      " 5.74188641e+02 5.79187866e+02 5.84187084e+02 5.90186136e+02\n",
      " 5.95185339e+02 5.97185018e+02 6.00184535e+02 6.07683317e+02\n",
      " 6.19681337e+02 6.21181086e+02 6.26680163e+02 6.29679657e+02\n",
      " 6.42177519e+02 6.45676913e+02 6.47676565e+02 6.49176303e+02\n",
      " 6.68672848e+02 6.71172397e+02 6.92168548e+02 6.95167988e+02\n",
      " 7.01166861e+02 7.03666389e+02 7.12664675e+02 7.19163424e+02\n",
      " 7.23662551e+02 7.25162259e+02 7.35160295e+02 7.37159899e+02\n",
      " 7.38659601e+02 7.57655779e+02 7.67153831e+02 7.69653314e+02\n",
      " 7.70653107e+02 7.77651650e+02 7.80151126e+02 7.84650179e+02\n",
      " 7.94648056e+02 8.00146876e+02 8.03646122e+02 8.34639293e+02\n",
      " 8.42137602e+02 8.59633598e+02 8.70631039e+02 8.76629629e+02\n",
      " 8.82628210e+02 9.02623409e+02 9.24118128e+02 9.28117132e+02\n",
      " 9.33615755e+02 9.55610167e+02 9.76604711e+02 9.82103263e+02\n",
      " 9.91600742e+02 1.01159536e+03 1.02859069e+03 1.04508609e+03\n",
      " 1.07507754e+03 1.08357507e+03 1.09757097e+03 1.16055184e+03\n",
      " 1.17454744e+03 1.17604697e+03 1.19903963e+03 1.24402484e+03\n",
      " 1.30300464e+03 1.38147631e+03 1.43345663e+03 1.45944651e+03\n",
      " 1.47893881e+03 1.51392473e+03 1.53141756e+03 1.60538635e+03\n",
      " 1.66136175e+03 1.67285660e+03 1.83927798e+03 2.03117806e+03\n",
      " 2.04067286e+03]\n"
     ]
    }
   ],
   "source": [
    "input_file = \"../../arxiv/NAA/Group A Foil June 21 1517.TKA\"\n",
    "bins = []\n",
    "with open(input_file, \"r\") as file:\n",
    "    reader = csv.reader(file, delimiter=\",\")\n",
    "    for row in reader:\n",
    "        bins.append(float(row[0]))\n",
    "bins = np.array(bins)\n",
    "energies = np.array([calibration(ii) for ii in range(len(bins))])\n",
    "peaks, _ = find_peaks(bins, threshold=10)\n",
    "peak_bins = bins[peaks]\n",
    "peak_energies = energies[peaks]"
   ]
  },
  {
   "cell_type": "code",
   "execution_count": 33,
   "metadata": {},
   "outputs": [
    {
     "name": "stdout",
     "output_type": "stream",
     "text": [
      "Using matplotlib backend: MacOSX\n"
     ]
    }
   ],
   "source": [
    "%matplotlib\n",
    "fig, axs = plt.subplots(figsize=(10,6))\n",
    "axs.plot(energies, bins, linestyle='--', color='k')\n",
    "axs.scatter(peak_energies, peak_bins, color='r')\n",
    "axs.set_yscale(\"log\")\n",
    "axs.set_xlabel(\"Energy [keV]\")\n",
    "axs.set_ylabel(\"Counts [n]\")\n",
    "plt.show()\n"
   ]
  },
  {
   "cell_type": "code",
   "execution_count": null,
   "metadata": {},
   "outputs": [],
   "source": []
  }
 ],
 "metadata": {
  "kernelspec": {
   "display_name": "py38",
   "language": "python",
   "name": "python3"
  },
  "language_info": {
   "codemirror_mode": {
    "name": "ipython",
    "version": 3
   },
   "file_extension": ".py",
   "mimetype": "text/x-python",
   "name": "python",
   "nbconvert_exporter": "python",
   "pygments_lexer": "ipython3",
   "version": "3.8.16"
  },
  "orig_nbformat": 4,
  "vscode": {
   "interpreter": {
    "hash": "36c42495ca0a69f07222531a8cba1d5554489fa9c6fe68a256d44230ca2c5d0f"
   }
  }
 },
 "nbformat": 4,
 "nbformat_minor": 2
}
